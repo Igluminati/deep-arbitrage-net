{
 "cells": [
  {
   "cell_type": "markdown",
   "id": "86202c6f",
   "metadata": {},
   "source": [
    "[[Neural Networks from Scratch]]\n",
    "\n",
    "##### What are activation functions?\n",
    "After you compute the inputs times the weights and plus the bias, you get a neuron output which is then fed into an activation function to decide if that neuron should pass a signal forwards or not.\n",
    "\n",
    "##### Why do we use activation functions?\n",
    "Without activation functions, the final output of the neural network will always be linear. With activation functions, the neural network's output becomes the combination of linear lines and bends at certain points, allowing complex shapes to be formed.\n",
    "\n",
    "##### List 4 Activation Functions\n",
    "- ReLU\n",
    "- STEP\n",
    "- Sigmoid\n",
    "- Softmax\n",
    "\n",
    "##### What does ReLU function do?\n",
    "If the input `x` is less than 0 output 0. Otherwise, output `x` \n",
    "\n",
    "denoted by:\n",
    "`f(x) = max(0,x)`\n",
    "\n",
    "##### How does the Sigmoid Activation Function work?\n",
    "Sigmoid outputs a value strictly in the range of 0 for $-\\infty$, through 0.5 for the input of 0, and to 1 for $+\\infty$.\n",
    "$$\n",
    "\\sigma(x) = \\frac{1}{1 + e^{-x}}\n",
    "$$\n",
    "##### Initialise the packages"
   ]
  },
  {
   "cell_type": "code",
   "execution_count": null,
   "id": "a6ea2558",
   "metadata": {},
   "outputs": [],
   "source": [
    "await micropip.install(\"numpy\")\n",
    "await micropip.install(\"nnfs\")\n",
    "await micropip.install(\"matplotlib\")\n",
    "\n",
    "import matplotlib.pyplot as plt\n",
    "import numpy as np\n",
    "import nnfs.datasets import spiral_data"
   ]
  },
  {
   "cell_type": "markdown",
   "id": "f9c7ed49",
   "metadata": {},
   "source": [
    "##### Generating the spiral dataset"
   ]
  },
  {
   "cell_type": "code",
   "execution_count": null,
   "id": "cb51b9d7",
   "metadata": {},
   "outputs": [],
   "source": [
    "def create_data(points, classes):\n",
    "\tX = np.zeros((points*classes, 2))\n",
    "\ty = np.zeros(points*classes, dtype='uint8')\n",
    "\tfor class_number in range(classes):\n",
    "\t\tix = range(points*class_number, points*(class_number+1))\n",
    "\t\tr = np.linspace(0.0, 1, points) # radius\n",
    "\t\tt = np.linspace(class_number*4, (class_number+1)*4, points) + np.random.randn(points)*0.2\n",
    "\t\tX[ix] = np.c_[r*np.sin(t*2.5), r*np.cos(t*2.5)]\n",
    "\t\ty[ix] = class_number\n",
    "\treturn X, y\n",
    "\n",
    "# 100 feature sets and 3 classes. Each feature set has two features (X and y coordinates)\n",
    "X, y = create_data(100, 3)\n",
    "\n",
    "plt.scatter(X[:, 0], X[:, 1], c=y, cmap=\"brg\")\n",
    "plt.show()\n",
    "plt.close()"
   ]
  },
  {
   "cell_type": "markdown",
   "id": "cf701171",
   "metadata": {},
   "source": [
    "##### Rectified Linear Units with the spiral data"
   ]
  },
  {
   "cell_type": "code",
   "execution_count": null,
   "id": "fe05002c",
   "metadata": {},
   "outputs": [],
   "source": [
    "nnfs.init()\n",
    "\n",
    "X = [[1.0, 2.0, 3.0, 2.5],\n",
    "\t[2.0, 5.0, -1.0, 2.0],\n",
    "\t[-1.5, 2.7, 3.3, -0.8]]\n",
    "\n",
    "X, y = spiral_data(100,3)\n",
    "\n",
    "class Layer_Dense:\n",
    "\tdef __init__(self, n_inputs, n_neurons):\n",
    "\t\tself.weights = 0.10 * np.random.randn(n_inputs, n_neurons)\n",
    "\t\tself.biases = np.zeros((1, n_neurons))\n",
    "\tdef forward(self, inputs):\n",
    "\t\tself.output = np.dot(inputs, self.weights) + self.biases\n",
    "\n",
    "class Activation_ReLU:\n",
    "\tdef forward(self, inputs):\n",
    "\t\tself.output = np.maximum(0, inputs)\n",
    "\n",
    "# 2 inputs (the X and y coordinates), 5 neurons\n",
    "layer1 = Layer_Dense(2,5)\n",
    "activation1 = Activation_ReLU()\n",
    "\n",
    "layer1.forward(X)\n",
    "\n",
    "#prints out list of 5 element long lists corresponding to the 5 neurons\n",
    "#print(layer1.output)\n",
    "activation1.forward(layer1.output)\n",
    "print(activation1.output)"
   ]
  },
  {
   "cell_type": "markdown",
   "id": "bcd531b8",
   "metadata": {},
   "source": [
    "\n",
    "\n",
    "\n",
    "\n",
    "\n",
    "\n"
   ]
  }
 ],
 "metadata": {},
 "nbformat": 4,
 "nbformat_minor": 5
}
