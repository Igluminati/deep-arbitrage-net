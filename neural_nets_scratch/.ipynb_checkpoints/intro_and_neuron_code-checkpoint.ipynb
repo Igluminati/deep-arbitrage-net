{
 "cells": [
  {
   "cell_type": "markdown",
   "id": "7ec96675",
   "metadata": {},
   "source": [
    "##### Briefly explain the forward pass process of a Neural Network\n",
    "You begin by feeding the input data into the first layer. Each input is multiplied by a weight and added to a bias (y = x * w + b). This total goes into a neuron which applies an activation function in order to transform the result to help the network learn non-linear patterns. The output of this neuron becomes the input of the next layer. This process repeats through all layers which finally becomes a prediction. The prediction is then compared to the expected result using a loss function, which tells the network how wrong it is.\n",
    "\n",
    "##### test"
   ]
  },
  {
   "cell_type": "code",
   "execution_count": 1,
   "id": "6b255e52",
   "metadata": {},
   "outputs": [
    {
     "name": "stdout",
     "output_type": "stream",
     "text": [
      "Hello World\n"
     ]
    }
   ],
   "source": [
    "print(\"Hello World\")"
   ]
  },
  {
   "cell_type": "markdown",
   "id": "46a1632e",
   "metadata": {},
   "source": []
  }
 ],
 "metadata": {
  "kernelspec": {
   "display_name": "Python 3 (ipykernel)",
   "language": "python",
   "name": "python3"
  },
  "language_info": {
   "codemirror_mode": {
    "name": "ipython",
    "version": 3
   },
   "file_extension": ".py",
   "mimetype": "text/x-python",
   "name": "python",
   "nbconvert_exporter": "python",
   "pygments_lexer": "ipython3",
   "version": "3.13.3"
  }
 },
 "nbformat": 4,
 "nbformat_minor": 5
}
