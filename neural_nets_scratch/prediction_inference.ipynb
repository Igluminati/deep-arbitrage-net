{
 "cells": [
  {
   "cell_type": "markdown",
   "id": "08978003",
   "metadata": {},
   "source": [
    "[[Neural Networks from Scratch]]\n",
    "\n",
    "##### What is our objective with Prediction Inference?\n",
    "The primary goal of training models is to use them for making predictions on new, unseen data. This process is known as inference or prediction.\n",
    "\n",
    "##### Predict Method\n",
    "To facilitate prediction, we add a `predict` method to the `Model` class:"
   ]
  },
  {
   "cell_type": "code",
   "execution_count": null,
   "id": "573e0c9d",
   "metadata": {},
   "outputs": [],
   "source": [
    "def predict(self, X, *, batch_size=None):\n",
    "\tprediction_steps = 1\n",
    "\tif batch_size is not None:\n",
    "\t\tprediction_steps = len(X) // batch_size\n",
    "\t\tif prediction_steps * batch_size < len(X):\n",
    "\t\t\tprediction_steps += 1\n",
    "\t\t\t\n",
    "\toutput = []\n",
    "\tfor step in range(prediction_steps):\n",
    "\t\tif batch_size is None:\n",
    "\t\t\tbatch_X = X\n",
    "\t\telse:\n",
    "\t\t\tbatch_X = X[step*batch_size:(step+1)*batch_size]\n",
    "\t\tbatch_output = self.forward(batch_X, training=False)\n",
    "\t\toutput.append(batch_output)\n",
    "\t\t\n",
    "\treturn np.vstack(output)"
   ]
  },
  {
   "cell_type": "markdown",
   "id": "3ad9cb3d",
   "metadata": {},
   "source": [
    "\n",
    "##### Example Usage of `model.predict`"
   ]
  },
  {
   "cell_type": "code",
   "execution_count": null,
   "id": "edd0f0ea",
   "metadata": {},
   "outputs": [],
   "source": [
    "X_test = (X_test.reshape(X_test.shape[0], -1).astype(np.float32) - 127.5) / 127.5\n",
    "model = Model.load('fashion_mnist.model')\n",
    "confidences = model.predict(X_test[:5])\n",
    "print(confidences)"
   ]
  },
  {
   "cell_type": "markdown",
   "id": "105e7b15",
   "metadata": {},
   "source": [
    "\n",
    "##### Handling Predictions\n",
    "The output of the prediction is a list of confidence vectors. We use the `argmax` function to determine the predicted class:\n"
   ]
  },
  {
   "cell_type": "code",
   "execution_count": null,
   "id": "d35313c8",
   "metadata": {},
   "outputs": [],
   "source": [
    "predictions = model.output_layer_activation.predictions(confidences)\n",
    "print(predictions)"
   ]
  },
  {
   "cell_type": "markdown",
   "id": "d083d646",
   "metadata": {},
   "source": [
    "\n",
    "##### Mapping Predictions to Labels\n",
    "The predicted classes indices are mapped to their corresponding labels using a dictionary / hashmap:"
   ]
  },
  {
   "cell_type": "code",
   "execution_count": null,
   "id": "2f42eba2",
   "metadata": {},
   "outputs": [],
   "source": [
    "fashion_mnist_labels = {\n",
    "    0: 'T-shirt/top',\n",
    "    1: 'Trouser',\n",
    "    2: 'Pullover',\n",
    "    3: 'Dress',\n",
    "    4: 'Coat',\n",
    "    5: 'Sandal',\n",
    "    6: 'Shirt',\n",
    "    7: 'Sneaker',\n",
    "    8: 'Bag',\n",
    "    9: 'Ankle boot'\n",
    "}\n",
    "\n",
    "for prediction in predictions:\n",
    "    print(fashion_mnist_labels[prediction])"
   ]
  },
  {
   "cell_type": "markdown",
   "id": "f5c5abe4",
   "metadata": {},
   "source": [
    "\n",
    "##### Preprocessing New Images\n",
    "To use the model on new images, we preprocess them similarly to the training data:\n",
    "###### 1. Load and Resize the Image:"
   ]
  },
  {
   "cell_type": "code",
   "execution_count": null,
   "id": "e289ae7d",
   "metadata": {},
   "outputs": [],
   "source": [
    "import cv2\n",
    "\n",
    "image_data = cv2.imread('tshirt.png', cv2.IMREAD_GRAYSCALE)\n",
    "image_data = cv2.resize(image_data, (28, 28))"
   ]
  },
  {
   "cell_type": "markdown",
   "id": "16452736",
   "metadata": {},
   "source": [
    "###### 2. Invert Colours and Normalise"
   ]
  },
  {
   "cell_type": "code",
   "execution_count": null,
   "id": "cf419936",
   "metadata": {},
   "outputs": [],
   "source": [
    "image_data = 255 - image_data\n",
    "image_data = (image_data.reshape(1, -1).astype(np.float32) - 127.5 / 127.5)"
   ]
  },
  {
   "cell_type": "markdown",
   "id": "ba3f7b47",
   "metadata": {},
   "source": [
    "###### 3. Predict on the Preprocessed Image:"
   ]
  },
  {
   "cell_type": "code",
   "execution_count": null,
   "id": "e0fcb764",
   "metadata": {},
   "outputs": [],
   "source": [
    "confidences = model.predict(image_data)\n",
    "predictions = model.output_layer_activation.predictions(confidences)\n",
    "prediction = fashion_mnist_labels[predictions[0]]\n",
    "print(prediction)"
   ]
  },
  {
   "cell_type": "markdown",
   "id": "364c20f4",
   "metadata": {},
   "source": [
    "\n",
    "##### Example Code for Prediction"
   ]
  },
  {
   "cell_type": "code",
   "execution_count": null,
   "id": "9c7de559",
   "metadata": {},
   "outputs": [],
   "source": [
    "import cv2\n",
    "import numpy as np\n",
    "\n",
    "fashion_mnist_labels = {\n",
    "    0: 'T-shirt/top',\n",
    "    1: 'Trouser',\n",
    "    2: 'Pullover',\n",
    "    3: 'Dress',\n",
    "    4: 'Coat',\n",
    "    5: 'Sandal',\n",
    "    6: 'Shirt',\n",
    "    7: 'Sneaker',\n",
    "    8: 'Bag',\n",
    "    9: 'Ankle boot'\n",
    "}\n",
    "\n",
    "image_data = cv2.imread('tshirt.png', cv2.IMREAD_GRAYSCALE)\n",
    "image_data = cv2.resize(image_data, (28, 28))\n",
    "image_data = 255 - image_data\n",
    "image_data = (image_data.reshape(1, -1).astype(np.float32) - 127.5) / 127.5\n",
    "\n",
    "model = Model.load('fashion_mnist.model')\n",
    "confidences = model.predict(image_data)\n",
    "predictions = model.output_layer_activation.predictions(confidences)\n",
    "prediction = fashion_mnist_labels[predictions[0]]\n",
    "print(prediction)"
   ]
  },
  {
   "cell_type": "markdown",
   "id": "c5a5a78b",
   "metadata": {},
   "source": [
    "\n",
    "This notebook page covers the essential steps for making predictions using a trained neural network model. It includes preprocessing steps and how to map prediction to human-readable labels.\n",
    "\n",
    "This is the last feature of our model, which closes the list of the topics.\n",
    "\n",
    "##### Next Step\n",
    "[[Full Code Implementation]]"
   ]
  }
 ],
 "metadata": {},
 "nbformat": 4,
 "nbformat_minor": 5
}
