{
 "cells": [
  {
   "cell_type": "markdown",
   "id": "4100d324",
   "metadata": {},
   "source": [
    "##### Brief explanation of the forward pass process in a Neural Network\n",
    "You begin by feeding the input data into the first layer. Each input is multiplied by a weight and added to a bias (y = x * w + b). This total goes into a neuron which applies an activation function in order to transform the result to help the network learn non-linear patterns. The output of this neuron becomes the input of the next layer. This process repeats through all layers which finally becomes a prediction. The prediction is then compared to the expected result using a loss function, which tells the network how wrong it is.\n",
    "\n",
    "##### testy"
   ]
  },
  {
   "cell_type": "code",
   "execution_count": null,
   "id": "5099d28c",
   "metadata": {},
   "outputs": [],
   "source": [
    "print(\"Hello World\")"
   ]
  },
  {
   "cell_type": "markdown",
   "id": "5c77ece8",
   "metadata": {},
   "source": []
  }
 ],
 "metadata": {},
 "nbformat": 4,
 "nbformat_minor": 5
}
