{
 "cells": [
  {
   "cell_type": "markdown",
   "id": "990c908a",
   "metadata": {},
   "source": [
    "##### Brief explanation of the forward pass process in a Neural Network\n",
    "You begin by feeding the input data into the first layer. Each input is multiplied by a weight and added to a bias (y = x * w + b). This total goes into a neuron which applies an activation function in order to transform the result to help the network learn non-linear patterns. The output of this neuron becomes the input of the next layer. This process repeats through all layers which finally becomes a prediction. The prediction is then compared to the expected result using a loss function, which tells the network how wrong it is.\n",
    "\n",
    "##### A Single Neuron"
   ]
  },
  {
   "cell_type": "code",
   "execution_count": null,
   "id": "3d1270f7",
   "metadata": {},
   "outputs": [],
   "source": [
    "inputs = [1.4, 4.5, 7.3]\n",
    "weights = [2.4, 6.3, 1.5]\n",
    "bias = 3\n",
    "\n",
    "output = inputs[0]*weights[0] + inputs[1]*weights[1] + inputs[2]*weights[2] + bias\n",
    "\n",
    "print(output)"
   ]
  },
  {
   "cell_type": "markdown",
   "id": "5f0a0d4e",
   "metadata": {},
   "source": [
    "\n",
    "\n",
    "\n"
   ]
  }
 ],
 "metadata": {},
 "nbformat": 4,
 "nbformat_minor": 5
}
