{
 "cells": [
  {
   "cell_type": "markdown",
   "id": "1eea1411",
   "metadata": {},
   "source": [
    "[[Neural Networks from Scratch]]"
   ]
  }
 ],
 "metadata": {},
 "nbformat": 4,
 "nbformat_minor": 5
}
