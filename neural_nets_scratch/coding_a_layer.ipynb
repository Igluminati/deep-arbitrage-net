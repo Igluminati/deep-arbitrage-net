{
 "cells": [
  {
   "cell_type": "markdown",
   "id": "2b5b6149",
   "metadata": {},
   "source": [
    "##### What exactly are these inputs?\n",
    "The `inputs` list represents numerical features of a single data sample. Each value is an input to the neural network, which could be any measurable feature relevant to the task such as pixel intensity in an image for written number classification.\n",
    "##### Implementing Multiple Neurons"
   ]
  },
  {
   "cell_type": "code",
   "execution_count": null,
   "id": "e5d47462",
   "metadata": {},
   "outputs": [],
   "source": [
    "inputs = [1.0, 2.0, 3.0, 2.5]\n",
    "\n",
    "# Neuron 1\n",
    "weights = [0.2, 0.8, -0.5, 1.0]\n",
    "bias = 2.0\n",
    "\n",
    "# Neuron 2\n",
    "weights1 = [0.5, -0.91, 0.26, -0.5]\n",
    "bias1 = 3.0\n",
    "\n",
    "# Neuron 3\n",
    "weights2 = [-0.26, -0.27, 0.17, 0.87]\n",
    "bias2 = 0.5\n",
    "\n",
    "output = [inputs[0]*weights[0] + inputs[1]*weights[1] + inputs[2]*weights[2] + inputs[3]*weights[3] + bias,\n",
    "inputs[0]*weights1[0] + inputs[1]*weights1[1] + inputs[2]*weights1[2] + inputs[3]*weights1[3] + bias1,\n",
    "inputs[0]*weights2[0] + inputs[1]*weights2[1] + inputs[2]*weights2[2] + inputs[3]*weights2[3] + bias2]\n",
    "\n",
    "print(output)"
   ]
  },
  {
   "cell_type": "markdown",
   "id": "4b2e1f1c",
   "metadata": {},
   "source": [
    "\n",
    "\n"
   ]
  }
 ],
 "metadata": {},
 "nbformat": 4,
 "nbformat_minor": 5
}
