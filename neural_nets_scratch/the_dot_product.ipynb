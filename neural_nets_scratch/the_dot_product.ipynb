{
 "cells": [
  {
   "cell_type": "markdown",
   "id": "a3de30f3",
   "metadata": {},
   "source": [
    "##### What are the weights and biases?\n",
    "Weights and biases are tunable parameters that the optimiser will attempt to tweak in order to fit the neural network better to the data and produce better results.\n",
    "\n",
    "##### What is a tensor?\n",
    "A tensor is a container of integers arranged in n dimensions.\n",
    "\n",
    "A tensor can be any of the following:\n",
    "- A single number which is a 0D tensor (scalar)\n",
    "- A list of numbers which is a 1D tensor (vector)\n",
    "- A list of lists which is a 2D tensor (matrix)\n",
    "- Higher dimensions are multi-axis arrays\n",
    "\n",
    "##### Cleaner way of computing the outputs of the first layer"
   ]
  },
  {
   "cell_type": "code",
   "execution_count": null,
   "id": "e744c949",
   "metadata": {},
   "outputs": [],
   "source": [
    "inputs = [1.0, 2.0, 3.0, 2.5] # VECTOR\n",
    "\n",
    "weights = [[0.2, 0.8, -0.5, 1.0], [0.5, -0.91, 0.26, -0.5], [-0.26, -0.27, 0.17, 0.87]] # MATRIX OF VECTORS\n",
    "\n",
    "biases = [2, 3, 0.5] # VECTOR\n",
    "\n",
    "layer_outputs = [] # Output of the current layer\n",
    "for neuron_weights, neuron_bias in zip(weights, biases):\n",
    "\tneuron_output = 0\n",
    "\tfor n_input, weight in zip(inputs, neuron_weights):\n",
    "\t\tneuron_output += n_input*weight\n",
    "\tneuron_output += neuron_bias\n",
    "\tlayer_outputs.append(neuron_output)\n",
    "\n",
    "print(layer_outputs)"
   ]
  },
  {
   "cell_type": "markdown",
   "id": "8fd507de",
   "metadata": {},
   "source": [
    "##### Dot product"
   ]
  },
  {
   "cell_type": "code",
   "execution_count": null,
   "id": "0d5ad10a",
   "metadata": {},
   "outputs": [],
   "source": [
    "import micropip\n",
    "await micropip.install(\"numpy\")\n",
    "\n",
    "import numpy as np\n",
    "\n",
    "a = [1,2,3]\n",
    "b = [2,3,4]\n",
    "\n",
    "# How dot product works without numpy\n",
    "# dot_product = a[0]*b[0] + a[1]*b[1] + a[2]*b[2]\n",
    "\n",
    "# With numpy\n",
    "# dot_product = np.dot(a,b)"
   ]
  },
  {
   "cell_type": "markdown",
   "id": "c398ba93",
   "metadata": {},
   "source": [
    "##### Using dot product to produce an output for our first layer\n",
    "We compute the dot product with weights being the first argument because we are iterating over each vector in the matrix of vectors that is the weights variable. With each iterated vector in the matrix, the elements of the vector are multiplied with each element of the inputs array and added with the corresponding bias."
   ]
  },
  {
   "cell_type": "code",
   "execution_count": null,
   "id": "a7b964d7",
   "metadata": {},
   "outputs": [],
   "source": [
    "layer_outputs = np.dot(weights, inputs) + biases\n",
    "\n",
    "print(layer_outputs)"
   ]
  },
  {
   "cell_type": "markdown",
   "id": "bdf6fd5d",
   "metadata": {},
   "source": [
    "\n",
    "\n",
    "\n",
    "\n",
    "\n",
    "\n",
    "\n",
    "\n",
    "\n",
    "\n",
    "\n",
    "\n",
    "\n",
    "\n",
    "\n",
    "\n",
    "\n",
    "\n",
    "\n",
    "\n",
    "\n",
    "\n"
   ]
  }
 ],
 "metadata": {},
 "nbformat": 4,
 "nbformat_minor": 5
}
