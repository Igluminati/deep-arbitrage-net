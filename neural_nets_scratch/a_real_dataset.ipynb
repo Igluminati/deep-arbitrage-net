{
 "cells": [
  {
   "cell_type": "code",
   "execution_count": null,
   "id": "6908d084",
   "metadata": {},
   "outputs": [],
   "source": []
  },
  {
   "cell_type": "code",
   "execution_count": null,
   "id": "34d7ea4a",
   "metadata": {},
   "outputs": [],
   "source": []
  },
  {
   "cell_type": "markdown",
   "id": "f4a6e60e",
   "metadata": {},
   "source": [
    "[[Neural Networks from Scratch]]\n",
    "\n",
    "##### What is our objective here?\n",
    "We want to introduce the dataset **Fashion MNIST** to expose the model to: file loading, image preprocessing, batching, shuffling, and balancing.\n",
    "\n",
    "##### Dataset Description\n",
    "- **Fashion MNIST**: 60,000 training and 10,000 test greyscale images (28×28), ten classes:\n",
    "0: T-shirt/top  \n",
    "1: Trouser  \n",
    "2: Pullover  \n",
    "3: Dress  \n",
    "4: Coat  \n",
    "5: Sandal  \n",
    "6: Shirt  \n",
    "7: Sneaker  \n",
    "8: Bag  \n",
    "9: Ankle boot  \n",
    "\n",
    "##### Data Retrieval"
   ]
  },
  {
   "cell_type": "code",
   "execution_count": null,
   "id": "5e9eab3b",
   "metadata": {},
   "outputs": [],
   "source": [
    "from zipfile import ZipFile\n",
    "import os\n",
    "import urllib\n",
    "import urllib.request\n",
    "\n",
    "URL = 'https://nnfs.io/dataset/fashion_mnist_images.zip'\n",
    "FILE = 'fashion_mnist_images.zip'\n",
    "FOLDER = 'fashion_mnist_images'\n",
    "\n",
    "if not os.path.isfile(FILE):\n",
    "\tprint(f'Downloading {URL} and saving as {FILE}...')\n",
    "\turllib.request.urlretrieve(URL, FILE)\n",
    "\n",
    "print('Unzipping images...')\n",
    "with ZipFile(FILE) as zip_images:\n",
    "\tzip_images.extractall(FOLDER)\n",
    "\n",
    "print('Done!')"
   ]
  },
  {
   "cell_type": "markdown",
   "id": "a107d141",
   "metadata": {},
   "source": [
    "This extracts `train/` and `test/` folders, each with sub-folders `0-9` for each class.\n",
    "\n",
    "##### Image Loading"
   ]
  },
  {
   "cell_type": "code",
   "execution_count": null,
   "id": "fc8f72fd",
   "metadata": {},
   "outputs": [],
   "source": [
    "import os\n",
    "\n",
    "labels = os.listdir('fashion_mnist_images/train')\n",
    "files = os.listdir('fashion_mnist_images/train/0')\n",
    "print(labels)   # ['0', ..., '9']\n",
    "print(files[:10])"
   ]
  },
  {
   "cell_type": "markdown",
   "id": "7d439c28",
   "metadata": {},
   "source": [
    "Each class has 6,000 samples -> **balanced dataset**. It's important to prevent model bias towards majority classes.\n",
    "\n",
    "##### Visualisation"
   ]
  },
  {
   "cell_type": "code",
   "execution_count": null,
   "id": "1e7d9567",
   "metadata": {},
   "outputs": [],
   "source": [
    "import cv2\n",
    "import numpy as np\n",
    "import matplotlib.pyplot as plt\n",
    "\n",
    "image_data = cv2.imread('fashion_mnist_images/train/7/0002.png', cv2.IMREAD_UNCHANGED)\n",
    "plt.imshow(image_data, cmap='gray')\n",
    "plt.show()"
   ]
  },
  {
   "cell_type": "markdown",
   "id": "f164740d",
   "metadata": {},
   "source": [
    "\n",
    "##### Data Shuffling"
   ]
  },
  {
   "cell_type": "code",
   "execution_count": null,
   "id": "667348ee",
   "metadata": {},
   "outputs": [],
   "source": [
    "keys = np.array(range(X.shape[0]))\n",
    "np.random.shuffle(keys)\n",
    "X = X[keys]\n",
    "y = y[keys]"
   ]
  },
  {
   "cell_type": "markdown",
   "id": "a31c1c55",
   "metadata": {},
   "source": [
    "Shuffles indices, then applies to both `X` and `y` which is critical for Batch Training as it prevents batch bias.\n",
    "\n",
    "##### Batch Logic\n",
    "Instead of training on full dataset at once:"
   ]
  },
  {
   "cell_type": "code",
   "execution_count": null,
   "id": "365a84de",
   "metadata": {},
   "outputs": [],
   "source": [
    "BATCH_SIZE = 128\n",
    "steps = X.shape[0] // BATCH_SIZE\n",
    "if steps * BATCH_SIZE < X.shape[0]:\n",
    "    steps += 1"
   ]
  },
  {
   "cell_type": "markdown",
   "id": "3e9e00ad",
   "metadata": {},
   "source": [
    "Use `batch_X = X[start:end]` to iterate in chunks across steps. This process enables training on larger datasets.\n",
    "\n",
    "##### Epoch and Step Loops"
   ]
  },
  {
   "cell_type": "code",
   "execution_count": null,
   "id": "234d2de8",
   "metadata": {},
   "outputs": [],
   "source": [
    "for epoch in range(1, epochs + 1):\n",
    "    for step in range(steps):\n",
    "        batch_X = X[step * BATCH_SIZE:(step + 1) * BATCH_SIZE]\n",
    "        batch_y = y[step * BATCH_SIZE:(step + 1) * BATCH_SIZE]\n",
    "\n",
    "        output = model.forward(batch_X, training=True)\n",
    "        data_loss, reg_loss = model.loss.calculate(output, batch_y, include_regularisation=True)\n",
    "        loss = data_loss + reg_loss\n",
    "\n",
    "        predictions = model.output_layer_activation.predictions(output)\n",
    "        accuracy = model.accuracy.calculate(predictions, batch_y)\n",
    "\n",
    "        model.backward(output, batch_y)\n",
    "        model.optimiser.pre_update_params()\n",
    "        for layer in model.trainable_layers:\n",
    "            model.optimiser.update_params(layer)\n",
    "        model.optimiser.post_update_params()\n",
    "\n",
    "        if not step % print_every or step == steps - 1:\n",
    "            print(f'step: {step}, acc: {accuracy:.3f}, loss: {loss:.3f} '\n",
    "                  f'(data_loss: {data_loss:.3f}, reg_loss: {reg_loss:.3f}), '\n",
    "                  f'lr: {model.optimiser.current_learning_rate}')"
   ]
  },
  {
   "cell_type": "markdown",
   "id": "0c6b4c94",
   "metadata": {},
   "source": [
    "This process controls the training length.\n",
    "##### Validation Loop"
   ]
  },
  {
   "cell_type": "code",
   "execution_count": null,
   "id": "c09f510b",
   "metadata": {},
   "outputs": [],
   "source": [
    "for step in range(validation_steps):\n",
    "    batch_X = X_val[step * BATCH_SIZE:(step + 1) * BATCH_SIZE]\n",
    "    batch_y = y_val[step * BATCH_SIZE:(step + 1) * BATCH_SIZE]\n",
    "\n",
    "    output = model.forward(batch_X, training=False)\n",
    "    model.loss.calculate(output, batch_y)\n",
    "    predictions = model.output_layer_activation.predictions(output)\n",
    "    model.accuracy.calculate(predictions, batch_y)\n",
    "\n",
    "validation_loss = model.loss.calculate_accumulated()\n",
    "validation_accuracy = model.accuracy.calculate_accumulated()\n",
    "\n",
    "print(f'validation, acc: {validation_accuracy:.3f}, loss: {validation_loss:.3f}')"
   ]
  },
  {
   "cell_type": "markdown",
   "id": "b575c54f",
   "metadata": {},
   "source": [
    "Detects overfitting.\n",
    "\n",
    "##### Next Step\n",
    "[[Model Evaluation]]"
   ]
  }
 ],
 "metadata": {},
 "nbformat": 4,
 "nbformat_minor": 5
}
