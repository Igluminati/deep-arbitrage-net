{
 "cells": [
  {
   "cell_type": "markdown",
   "id": "bba37e70",
   "metadata": {},
   "source": [
    "[[Neural Networks from Scratch]]"
   ]
  }
 ],
 "metadata": {},
 "nbformat": 4,
 "nbformat_minor": 5
}
